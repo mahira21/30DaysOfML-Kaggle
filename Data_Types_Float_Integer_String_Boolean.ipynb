{
 "cells": [
  {
   "cell_type": "markdown",
   "id": "10d5462a-3a1e-42b2-8192-f85971eeb9f1",
   "metadata": {},
   "source": [
    "## Question 1\n",
    "Create a function get_expected_cost() to estimate the value of a house. The function should take three inputs:\n",
    "\n",
    "    beds: Number of bedrooms (float).\n",
    "    baths: Number of bathrooms (float).\n",
    "    has_basement: Boolean (True/False) indicating whether the house has a basement.\n",
    "\n",
    "Cost Calculation:\n",
    "\n",
    "    Base cost: $80,000 for a house with 0 bedrooms, 0 bathrooms, and no basement.\n",
    "    Each bedroom adds $30,000.\n",
    "    Each bathroom adds $10,000.\n",
    "    A basement adds $40,000.\n",
    "\n",
    "Example:\n",
    "\n",
    "    For 1 bedroom, 1 bathroom, and no basement:\n",
    "        get_expected_cost(1, 1, False) → $120,000.\n",
    "    For 2 bedrooms, 1 bathroom, and with basement:\n",
    "        get_expected_cost(2, 1, True) → $190,000."
   ]
  },
  {
   "cell_type": "code",
   "execution_count": 13,
   "id": "3b5a498c-05d0-4578-be81-a410a4e8c72a",
   "metadata": {},
   "outputs": [
    {
     "name": "stdout",
     "output_type": "stream",
     "text": [
      "120000\n",
      "190000\n"
     ]
    }
   ],
   "source": [
    "import math\n",
    "def get_expected_cost(beds, baths, has_basement):\n",
    "    # Base cost for a house with 0 bedrooms, 0 bathrooms, and no basement\n",
    "    base_cost = 80000\n",
    "    \n",
    "    # Each bedroom adds 30000\n",
    "    bedroom_cost = beds * 30000\n",
    "    \n",
    "    # Each bathroom adds 10000\n",
    "    bathroom_cost = baths * 10000\n",
    "    \n",
    "    # If the house has a basement, add 40000\n",
    "    if has_basement:\n",
    "        basement_cost = 40000 # because has_basement is True\n",
    "    else:\n",
    "        basement_cost = 0  # because has_basement is False\n",
    "\n",
    "    # Total cost calculation\n",
    "    total_cost = base_cost + bedroom_cost + bathroom_cost + basement_cost\n",
    "    \n",
    "    return total_cost\n",
    "\n",
    "#Display the results\n",
    "print(get_expected_cost(1, 1, False)) # Test case 1: 1 bedroom, 1 bathroom, no basement\n",
    "print(get_expected_cost(2, 1, True))  # Test case 2: 2 bedrooms, 1 bathroom, with a basement\n"
   ]
  },
  {
   "cell_type": "markdown",
   "id": "28005c74-3d73-4107-8eeb-877cca3dfcb5",
   "metadata": {},
   "source": [
    "## Question 2\n",
    "You run an online shop selling rings with custom engravings. You offer gold plated and solid gold rings.\n",
    "\n",
    "    Gold plated rings:\n",
    "        Base cost: $50.\n",
    "        Charge per engraved unit (character): $7.\n",
    "    Solid gold rings:\n",
    "        Base cost: $100.\n",
    "        Charge per engraved unit (character): $10.\n",
    "\n",
    "Task:\n",
    "\n",
    "Write a function cost_of_project() that takes:\n",
    "\n",
    "    engraving (a string with the text of the engraving).\n",
    "    solid_gold (a boolean indicating if the ring is solid gold).\n",
    "\n",
    "The function should return the total cost of the project, including the engraving charges."
   ]
  },
  {
   "cell_type": "code",
   "execution_count": 18,
   "id": "fda9b78c-2327-40ff-8e96-2b04f63def29",
   "metadata": {},
   "outputs": [
    {
     "name": "stdout",
     "output_type": "stream",
     "text": [
      "250\n",
      "127\n"
     ]
    }
   ],
   "source": [
    "def cost_of_project(engraving, solid_gold):\n",
    "    # Calculate the number of characters in the engraving (including spaces and punctuation)\n",
    "    engraving_length = len(engraving)\n",
    "    \n",
    "    # If the ring is solid gold\n",
    "    if solid_gold:\n",
    "        base_cost = 100\n",
    "        charge_per_unit = 10\n",
    "   # If the ring is gold plated\n",
    "    else:\n",
    "        base_cost = 50\n",
    "        charge_per_unit = 7 \n",
    "    \n",
    "    # Total cost calculation\n",
    "    total_cost = base_cost + (engraving_length * charge_per_unit)\n",
    "    # Return the calculated total cost\n",
    "    return total_cost\n",
    "    \n",
    "#Display the output   \n",
    "print(cost_of_project(\"Happy Birthday!\", True))  # Solid gold, with engraving, Expected output: $100 + (15 * $10) = $250\n",
    "print(cost_of_project(\"Love Always\", False))    # Gold plated, with engraving, Expected output: $50 + (11 * $7) = $134\n"
   ]
  },
  {
   "cell_type": "markdown",
   "id": "2573af35-3325-4bb9-867f-963395b93eb5",
   "metadata": {},
   "source": [
    "## Additional Task\n",
    "Write a function cost_of_project() that calculates the total cost of engraving on either gold plated or solid gold rings.\n",
    "\n",
    "For the \"Charlie+Denver\" engraving on a solid gold ring and \"08/10/2000\" engraving on a gold plated ring, calculate and display the total costs."
   ]
  },
  {
   "cell_type": "code",
   "execution_count": 19,
   "id": "dcc7e8a8-1840-443e-b2a2-4a103fcb7ca0",
   "metadata": {},
   "outputs": [
    {
     "name": "stdout",
     "output_type": "stream",
     "text": [
      "240\n",
      "120\n"
     ]
    }
   ],
   "source": [
    "def cost_of_project(engraving, solid_gold):\n",
    "    # Calculate the number of characters in the engraving (including spaces and punctuation)\n",
    "    engraving_length = len(engraving)\n",
    "    \n",
    "    # If the ring is solid gold\n",
    "    if solid_gold:\n",
    "        base_cost = 100\n",
    "        charge_per_unit = 10\n",
    "   # If the ring is gold plated\n",
    "    else:\n",
    "        base_cost = 50\n",
    "        charge_per_unit = 7 \n",
    "    \n",
    "    # Total cost calculation\n",
    "    total_cost = base_cost + (engraving_length * charge_per_unit)\n",
    "    # Return the calculated total cost\n",
    "    return total_cost\n",
    "    \n",
    "#Display the output   \n",
    "print(cost_of_project(\"Charlie+Denver\", True))  # Solid gold, with engraving\n",
    "print(cost_of_project(\"08/10/2000\", False))    # Gold plated, with engraving"
   ]
  },
  {
   "cell_type": "markdown",
   "id": "e1b6c663-f986-405c-b05a-da14b05a9924",
   "metadata": {},
   "source": [
    "## Question 3\n",
    "\n",
    "You are calculating the cost of custom engravings on rings. The engravings can be done on either solid gold or gold plated rings. Here’s the setup:\n",
    "\n",
    "    Solid gold rings have a base cost of $100 and charge $10 per engraved unit.\n",
    "    Gold plated rings have a base cost of $50 and charge $7 per engraved unit.\n",
    "    The engraving cost is calculated by multiplying the number of characters in the engraving (including spaces and punctuation) by the respective charge per unit.\n",
    "\n",
    "Write code to display the cost of the project for different scenarios:\n",
    "\n",
    "    Case 1: Engraving \"Charlie+Denver\" on a solid gold ring.\n",
    "    Case 2: Engraving \"08/10/2000\" on a gold plated ring.\n",
    "    Case 3: Swap the True/False values to calculate for gold plated and solid gold in reverse order.\n",
    "    Case 4: Test both as solid gold rings.\n",
    "    Case 5: Test both as gold plated rings.\n",
    "\n",
    "Make sure to display the results for each case using print()."
   ]
  },
  {
   "cell_type": "code",
   "execution_count": 23,
   "id": "ad3227ae-9f73-4b73-95b2-b2852de1f5b0",
   "metadata": {},
   "outputs": [
    {
     "name": "stdout",
     "output_type": "stream",
     "text": [
      "240\n",
      "120\n",
      "148\n",
      "200\n",
      "240\n",
      "200\n",
      "148\n",
      "120\n"
     ]
    }
   ],
   "source": [
    "# Display the output \n",
    "print(cost_of_project(\"Charlie+Denver\", True))  # Solid gold, with engraving\n",
    "print(cost_of_project(\"08/10/2000\", False))    # Gold plated, with engraving\n",
    "\n",
    "# Swapping True and False for both\n",
    "print(cost_of_project(\"Charlie+Denver\", False))  # Gold plated, with engraving\n",
    "print(cost_of_project(\"08/10/2000\", True))     # Solid gold, with engraving\n",
    "\n",
    "# Both True for solid gold rings\n",
    "print(cost_of_project(\"Charlie+Denver\", True))  # Solid gold, with engraving\n",
    "print(cost_of_project(\"08/10/2000\", True))     # Solid gold, with engraving\n",
    "\n",
    "# Both False for gold plated rings\n",
    "print(cost_of_project(\"Charlie+Denver\", False))  # Gold plated, with engraving\n",
    "print(cost_of_project(\"08/10/2000\", False))     # Gold plated, with engraving\n"
   ]
  },
  {
   "cell_type": "code",
   "execution_count": null,
   "id": "ba8b7fca-a25d-444c-ac45-c27b045d1f48",
   "metadata": {},
   "outputs": [],
   "source": []
  }
 ],
 "metadata": {
  "kernelspec": {
   "display_name": "Python 3 (ipykernel)",
   "language": "python",
   "name": "python3"
  },
  "language_info": {
   "codemirror_mode": {
    "name": "ipython",
    "version": 3
   },
   "file_extension": ".py",
   "mimetype": "text/x-python",
   "name": "python",
   "nbconvert_exporter": "python",
   "pygments_lexer": "ipython3",
   "version": "3.11.7"
  }
 },
 "nbformat": 4,
 "nbformat_minor": 5
}

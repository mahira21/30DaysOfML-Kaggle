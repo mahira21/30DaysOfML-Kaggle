{
 "cells": [
  {
   "cell_type": "code",
   "execution_count": null,
   "id": "10fb8e95-619b-454d-95c3-2144ad98728e",
   "metadata": {},
   "outputs": [],
   "source": [
    "# Set up the exercise\n",
    "import math\n",
    "print('Setup complete.')"
   ]
  },
  {
   "cell_type": "markdown",
   "id": "7cda7542-8f7e-4c3a-883f-2bec5a542ffa",
   "metadata": {},
   "source": [
    "### Question 1:\n",
    "\n",
    "In this problem, you are tasked with calculating the expected cost of a house based on the number of bedrooms and bathrooms. The function `get_expected_cost()` needs to take two arguments:\n",
    "- `beds`: number of bedrooms\n",
    "- `baths`: number of bathrooms\n",
    "\n",
    "The expected cost of a house is calculated as follows:\n",
    "- The base cost for a house with 0 bedrooms and 0 bathrooms is 80,000.\n",
    "- Each bedroom adds 30,000 to the expected cost.\n",
    "- Each bathroom adds 10,000 to the expected cost.\n",
    "\n",
    "For example:\n",
    "- A house with 1 bedroom and 1 bathroom has an expected cost of 120,000.\n",
    "- A house with 2 bedrooms and 1 bathroom has an expected cost of 150,000.\n"
   ]
  },
  {
   "cell_type": "code",
   "execution_count": 2,
   "id": "cf3173c5-8fac-4a66-b1c6-aca58bc407c8",
   "metadata": {},
   "outputs": [
    {
     "name": "stdout",
     "output_type": "stream",
     "text": [
      "120000\n",
      "150000\n"
     ]
    }
   ],
   "source": [
    "def get_expected_cost(beds, baths):\n",
    "    # Base cost for 0 bedrooms and 0 bathrooms\n",
    "    base_cost = 80000\n",
    "    \n",
    "    # Each bedroom adds 30000\n",
    "    bedroom_cost = beds * 30000\n",
    "    \n",
    "    # Each bathroom adds 10000\n",
    "    bathroom_cost = baths * 10000\n",
    "    \n",
    "    # Calculate the total expected cost\n",
    "    total_cost = base_cost + bedroom_cost + bathroom_cost\n",
    "    \n",
    "    return total_cost\n",
    "\n",
    "# Test the function\n",
    "print(get_expected_cost(1, 1))  # Expected cost for 1 bedroom and 1 bathroom (120,000)\n",
    "print(get_expected_cost(2, 1))  # Expected cost for 2 bedrooms and 1 bathroom (150,000)"
   ]
  },
  {
   "cell_type": "markdown",
   "id": "48cd9f27-11f5-4e65-bbde-09c917df665a",
   "metadata": {},
   "source": [
    "### Question 2:\n",
    "\n",
    "You are considering buying a home and need to calculate the cost based on the number of bedrooms and bathrooms. There are four different options for homes:\n",
    "\n",
    "- Option 1: House with 2 bedrooms and 3 bathrooms\n",
    "- Option 2: House with 3 bedrooms and 2 bathrooms\n",
    "- Option 3: House with 3 bedrooms and 3 bathrooms\n",
    "- Option 4: House with 3 bedrooms and 4 bathrooms\n",
    "\n",
    "You need to use the `get_expected_cost()` function (from Question 1) to calculate the expected cost for each option and assign the result to `option_1`, `option_2`, `option_3`, and `option_4`.\n"
   ]
  },
  {
   "cell_type": "code",
   "execution_count": 3,
   "id": "7466670d-5bb5-4574-b7b4-0ecc4d0161a7",
   "metadata": {},
   "outputs": [
    {
     "name": "stdout",
     "output_type": "stream",
     "text": [
      "170000\n",
      "190000\n",
      "200000\n",
      "210000\n"
     ]
    }
   ],
   "source": [
    "# Calculating the expected costs for each option\n",
    "option_one = get_expected_cost(2, 3)  # House with 2 bedrooms and 3 bathrooms\n",
    "option_two = get_expected_cost(3, 2)  # House with 3 bedrooms and 2 bathrooms\n",
    "option_three = get_expected_cost(3, 3)  # House with 3 bedrooms and 3 bathrooms\n",
    "option_four = get_expected_cost(3, 4)  # House with 3 bedrooms and 4 bathrooms\n",
    "\n",
    "# Printing the calculated costs for each option\n",
    "print(option_one)\n",
    "print(option_two)\n",
    "print(option_three)\n",
    "print(option_four)"
   ]
  },
  {
   "cell_type": "markdown",
   "id": "67918d5b-bf01-41c1-af90-db520c72628a",
   "metadata": {},
   "source": [
    "### Question 3:\n",
    "\n",
    "You are a home decorator and need to calculate the cost of painting a room. You will define a function `get_cost()` that takes the following inputs:\n",
    "- `sqft_walls`: total square feet of walls to be painted\n",
    "- `sqft_ceiling`: square feet of ceiling to be painted\n",
    "- `sqft_per_gallon`: number of square feet that one gallon of paint can cover\n",
    "- `cost_per_gallon`: cost (in dollars) of one gallon of paint\n",
    "\n",
    "The function should return the cost (in dollars) of putting one coat of paint on all walls and the ceiling. You can buy the exact amount of paint you need, so you can buy partial gallons (e.g., if you need 7.523 gallons, you can buy exactly that amount instead of buying 8 gallons and wasting some paint). Do not round your answer.\n"
   ]
  },
  {
   "cell_type": "code",
   "execution_count": 13,
   "id": "ca624cdd-6753-4f37-884e-5ab216cd898a",
   "metadata": {},
   "outputs": [
    {
     "name": "stdout",
     "output_type": "stream",
     "text": [
      "Total area to be painted: 900 square feet\n",
      "Gallons of paint required: 2.571 gallons\n",
      "Cost per gallon: $ 40\n",
      "Total cost for painting: $ 102.86\n"
     ]
    },
    {
     "data": {
      "text/plain": [
       "102.85714285714286"
      ]
     },
     "execution_count": 13,
     "metadata": {},
     "output_type": "execute_result"
    }
   ],
   "source": [
    "def get_cost(sqft_walls, sqft_ceiling, sqft_per_gallon, cost_per_gallon):\n",
    "    # Total area to be painted (walls + ceiling)\n",
    "    total_sqft = sqft_walls + sqft_ceiling\n",
    "    \n",
    "    # Calculate the exact number of gallons required\n",
    "    gallons_required = total_sqft / sqft_per_gallon\n",
    "    \n",
    "    # Calculate the total cost of the paint, considering the exact amount of paint needed\n",
    "    total_cost = gallons_required * cost_per_gallon\n",
    "    \n",
    "    # Using print with multiple arguments to display the results\n",
    "    print(\"Total area to be painted:\", total_sqft, \"square feet\")\n",
    "    print(\"Gallons of paint required:\", round(gallons_required, 3), \"gallons\")  # Rounded to 3 decimal places for better readability\n",
    "    print(\"Cost per gallon: $\", cost_per_gallon)\n",
    "    print(\"Total cost for painting: $\", round(total_cost, 2))  # Rounded to 2 decimal places for cost\n",
    "    \n",
    "    sqft_walls = 600  # Square feet of walls to be painted\n",
    "    sqft_ceiling = 300  # Square feet of ceiling to be painted\n",
    "    sqft_per_gallon = 350  # Square feet covered per gallon\n",
    "    cost_per_gallon = 40  # Cost of one gallon of paint\n",
    "    \n",
    "    return total_cost\n",
    " # Calling the function to display the output   \n",
    "get_cost(sqft_walls, sqft_ceiling, sqft_per_gallon, cost_per_gallon)"
   ]
  },
  {
   "cell_type": "markdown",
   "id": "77d949e9-218c-4963-8009-f77c8966732a",
   "metadata": {},
   "source": [
    "### Question 4:\n",
    "\n",
    "Use the `get_cost()` function you defined in Question 3 to calculate the cost of applying one coat of paint to a room with:\n",
    "\n",
    "- 432 square feet of walls\n",
    "- 144 square feet of ceiling\n",
    "\n",
    "Assume that one gallon of paint covers 400 square feet and costs $15. As in Question 3, assume you can buy partial gallons of paint. Do not round your answer.\n"
   ]
  },
  {
   "cell_type": "code",
   "execution_count": 14,
   "id": "33ffcc34-72d4-4c9b-9656-fa4534fcbff0",
   "metadata": {},
   "outputs": [
    {
     "name": "stdout",
     "output_type": "stream",
     "text": [
      "Total area to be painted: 576 square feet\n",
      "Gallons of paint required: 1.44 gallons\n",
      "Cost per gallon: $ 15\n",
      "Total cost for painting: $ 21.6\n"
     ]
    },
    {
     "data": {
      "text/plain": [
       "21.599999999999998"
      ]
     },
     "execution_count": 14,
     "metadata": {},
     "output_type": "execute_result"
    }
   ],
   "source": [
    "# Updated values for Question 4\n",
    "sqft_walls = 432  # Square feet of walls to be painted\n",
    "sqft_ceiling = 144  # Square feet of ceiling to be painted\n",
    "sqft_per_gallon = 400  # Square feet covered per gallon\n",
    "cost_per_gallon = 15  # Cost of one gallon of paint\n",
    "\n",
    "# Calling the function to display the output for this scenario\n",
    "get_cost(sqft_walls, sqft_ceiling, sqft_per_gallon, cost_per_gallon)"
   ]
  },
  {
   "cell_type": "markdown",
   "id": "36b8b0e4-a95e-4b4f-b696-5c06b51145f2",
   "metadata": {},
   "source": [
    "### Question:\n",
    "\n",
    "Write a Python function that uses `math.ceil()` to round up the number of gallons required. The function should take any decimal value and return the smallest integer greater than or equal to the value.\n",
    "\n",
    "Example:\n",
    "- If you need 7.3 gallons, the function should return 8.\n",
    "- If you need 2.4 gallons, the function should return 3.\n",
    "\n",
    "Test your function with the values `2.17` and `1.44`.\n"
   ]
  },
  {
   "cell_type": "code",
   "execution_count": 18,
   "id": "0292d37c-0593-4809-ba50-00ab978f2d5b",
   "metadata": {},
   "outputs": [
    {
     "name": "stdout",
     "output_type": "stream",
     "text": [
      "3\n"
     ]
    }
   ],
   "source": [
    "\n",
    "import math\n",
    "print(math.ceil(2.17))  # Should print 3\n"
   ]
  },
  {
   "cell_type": "code",
   "execution_count": 19,
   "id": "db093604-a965-4f20-8886-0b022dc20329",
   "metadata": {},
   "outputs": [
    {
     "name": "stdout",
     "output_type": "stream",
     "text": [
      "2\n"
     ]
    }
   ],
   "source": [
    "print(math.ceil(1.44)) "
   ]
  },
  {
   "cell_type": "code",
   "execution_count": 20,
   "id": "0d8696f0-5064-4692-b2ea-b6678f745539",
   "metadata": {},
   "outputs": [
    {
     "name": "stdout",
     "output_type": "stream",
     "text": [
      "2\n"
     ]
    }
   ],
   "source": [
    "test_value = 1.44\n",
    "rounded_value = math.ceil(test_value)  # Using math.ceil to round up the value\n",
    "print(rounded_value)"
   ]
  },
  {
   "cell_type": "markdown",
   "id": "2a9909da-a4fb-4ce6-bd1d-0d7260f8e4cb",
   "metadata": {},
   "source": [
    "### Question 5:\n",
    "\n",
    "You can no longer buy fractional gallons of paint. For example, if you need 4.3 gallons, you must buy 5 gallons. \n",
    "\n",
    "You need to create a new function **`get_actual_cost()`** that uses the same inputs from Question 4 and calculates the cost of the project, rounding the number of gallons up to the nearest whole number.\n",
    "\n",
    "To help with the rounding, use the **`math.ceil()`** function. This function rounds up any number to the nearest integer.\n",
    "\n",
    "Test the function using the provided code cell and ensure that **`math.ceil()`** works as expected. Feel free to change the value of **`test_value`** and check that **`math.ceil()`** rounds the number correctly.\n"
   ]
  },
  {
   "cell_type": "code",
   "execution_count": 28,
   "id": "44d98b5f-a940-4f5d-930d-e0c0f81c804f",
   "metadata": {},
   "outputs": [
    {
     "name": "stdout",
     "output_type": "stream",
     "text": [
      "Total area to be painted: 900 square feet\n",
      "Gallons of paint required (rounded up): 3 gallons\n",
      "Cost per gallon: $ 40\n",
      "Total cost for painting: $ 120\n"
     ]
    },
    {
     "data": {
      "text/plain": [
       "120"
      ]
     },
     "execution_count": 28,
     "metadata": {},
     "output_type": "execute_result"
    }
   ],
   "source": [
    "import math\n",
    "\n",
    "def get_actual_cost(sqft_walls, sqft_ceiling, sqft_per_gallon, cost_per_gallon):\n",
    "    # Total area to be painted (walls + ceiling)\n",
    "    total_sqft = sqft_walls + sqft_ceiling\n",
    "    \n",
    "    # Calculate the exact number of gallons required\n",
    "    gallons_required = total_sqft / sqft_per_gallon\n",
    "    \n",
    "    # Round up to the nearest whole number using math.ceil\n",
    "    rounded_gallons = math.ceil(gallons_required)  # Using math.ceil to round up\n",
    "    \n",
    "    # Calculate the total cost with the rounded number of gallons\n",
    "    total_cost = rounded_gallons * cost_per_gallon\n",
    "    \n",
    "    # Display the results\n",
    "    print(\"Total area to be painted:\", total_sqft, \"square feet\")\n",
    "    print(\"Gallons of paint required (rounded up):\", rounded_gallons, \"gallons\")\n",
    "    print(\"Cost per gallon: $\", cost_per_gallon)\n",
    "    print(\"Total cost for painting: $\", total_cost)\n",
    "    \n",
    "    return total_cost\n",
    "\n",
    "# Values for the room\n",
    "sqft_walls = 600  # Square feet of walls to be painted\n",
    "sqft_ceiling = 300  # Square feet of ceiling to be painted\n",
    "sqft_per_gallon = 350  # Square feet covered per gallon\n",
    "cost_per_gallon = 40  # Cost of one gallon of paint\n",
    "\n",
    "# Calling the function to display the output for Question 5\n",
    "get_actual_cost(sqft_walls, sqft_ceiling, sqft_per_gallon, cost_per_gallon)\n"
   ]
  },
  {
   "cell_type": "markdown",
   "id": "a2d90b00-341e-45fd-a3e6-59b1d667d7b7",
   "metadata": {},
   "source": [
    "### Extension Part of Question 5:\n",
    "\n",
    "In addition to the original task, you can define a new function **`round_up_and_divide_by_three(num)`** that makes use of the **`math.ceil()`** function. \n",
    "\n",
    "This function will:\n",
    "1. **Round up** the input number to the nearest whole number using **`math.ceil()`**.\n",
    "2. Then, it will **divide** the rounded number by **3**.\n"
   ]
  },
  {
   "cell_type": "code",
   "execution_count": 29,
   "id": "9ffd4ebb-6a30-45dd-9d1e-e89a381e1f61",
   "metadata": {},
   "outputs": [
    {
     "name": "stdout",
     "output_type": "stream",
     "text": [
      "Total area to be painted: 900 square feet\n",
      "Gallons of paint required (rounded up and divided by 3): 1.0 gallons\n",
      "Cost per gallon: $ 40\n",
      "Total cost for painting: $ 40.0\n"
     ]
    },
    {
     "data": {
      "text/plain": [
       "40.0"
      ]
     },
     "execution_count": 29,
     "metadata": {},
     "output_type": "execute_result"
    }
   ],
   "source": [
    "import math\n",
    "\n",
    "# Define the function to round up and divide by three\n",
    "def round_up_and_divide_by_three(num):\n",
    "    new_value = math.ceil(num)  # Uses math.ceil to round the number up\n",
    "    final_value = new_value / 3  # Then divides the rounded value by 3\n",
    "    return final_value\n",
    "\n",
    "def get_actual_cost(sqft_walls, sqft_ceiling, sqft_per_gallon, cost_per_gallon):\n",
    "    # Total area to be painted (walls + ceiling)\n",
    "    total_sqft = sqft_walls + sqft_ceiling\n",
    "    \n",
    "    # Calculate the exact number of gallons required\n",
    "    gallons_required = total_sqft / sqft_per_gallon\n",
    "    \n",
    "    # Use the round_up_and_divide_by_three function (instead of math.ceil)\n",
    "    rounded_gallons = round_up_and_divide_by_three(gallons_required)\n",
    "    \n",
    "    # Calculate the total cost with the rounded number of gallons\n",
    "    total_cost = rounded_gallons * cost_per_gallon\n",
    "    \n",
    "    # Display the results\n",
    "    print(\"Total area to be painted:\", total_sqft, \"square feet\")\n",
    "    print(\"Gallons of paint required (rounded up and divided by 3):\", rounded_gallons, \"gallons\")\n",
    "    print(\"Cost per gallon: $\", cost_per_gallon)\n",
    "    print(\"Total cost for painting: $\", total_cost)\n",
    "\n",
    "    sqft_walls = 600  # Square feet of walls to be painted\n",
    "    sqft_ceiling = 300  # Square feet of ceiling to be painted\n",
    "    sqft_per_gallon = 350  # Square feet covered per gallon\n",
    "    cost_per_gallon = 40  # Cost of one gallon of paint\n",
    "\n",
    "    return total_cost\n",
    "\n",
    "\n",
    "# Calling the function to display the output for Question 5\n",
    "get_actual_cost(sqft_walls, sqft_ceiling, sqft_per_gallon, cost_per_gallon)\n"
   ]
  },
  {
   "cell_type": "markdown",
   "id": "798c2c61-88c2-41ec-817a-6c24e1690893",
   "metadata": {},
   "source": [
    "### Additional task:\n",
    "\n",
    "Define the function **`round_up_and_divide_by_three(num)`**  that Uses the **`math.ceil()`** function to round the given num up to the nearest whole number.\n",
    "    **divide** the rounded number by **3**.\n",
    "\n",
    "Test this function with different values to ensure that it works as expected."
   ]
  },
  {
   "cell_type": "code",
   "execution_count": 30,
   "id": "a3257187-7fb3-4393-b8df-74245f8a3526",
   "metadata": {},
   "outputs": [
    {
     "name": "stdout",
     "output_type": "stream",
     "text": [
      "Rounded value (2.17): 3\n",
      "Total cost for painting: $ 30\n",
      "Rounded up and divided by 3 (2.17): 1.0\n"
     ]
    }
   ],
   "source": [
    "import math\n",
    "\n",
    "# Function to test math.ceil\n",
    "test_value = 2.17\n",
    "rounded_value = math.ceil(test_value)  # Rounds 2.17 up to 3\n",
    "print(\"Rounded value (2.17):\", rounded_value)\n",
    "\n",
    "# Define the get_actual_cost() function\n",
    "def get_actual_cost(sqft_walls, sqft_ceiling, sqft_per_gallon, cost_per_gallon):\n",
    "    total_sqft = sqft_walls + sqft_ceiling  # Total area to be painted\n",
    "    gallons_needed = total_sqft / sqft_per_gallon  # Gallons needed\n",
    "    \n",
    "    # Round up the gallons to the nearest whole number\n",
    "    gallons_to_buy = math.ceil(gallons_needed)\n",
    "    \n",
    "    # Calculate the total cost\n",
    "    total_cost = gallons_to_buy * cost_per_gallon\n",
    "    return total_cost\n",
    "\n",
    "sqft_walls = 432  # Square feet of walls to be painted\n",
    "sqft_ceiling = 144  # Square feet of ceiling to be painted\n",
    "sqft_per_gallon = 400  # Square feet covered per gallon\n",
    "cost_per_gallon = 15  # Cost of one gallon of paint\n",
    "\n",
    "# Example usage of get_actual_cost\n",
    "cost = get_actual_cost(432, 144, 400, 15)  # Example input for walls and ceiling area, coverage, and cost\n",
    "print(\"Total cost for painting: $\", cost)\n",
    "\n",
    "# Example of another function that uses math.ceil\n",
    "def round_up_and_divide_by_three(num):\n",
    "    new_value = math.ceil(num)  # Round up the number\n",
    "    final_value = new_value / 3  # Divide the result by 3\n",
    "    return final_value\n",
    "\n",
    "# Test the round_up_and_divide_by_three function\n",
    "result = round_up_and_divide_by_three(2.17)\n",
    "print(\"Rounded up and divided by 3 (2.17):\", result)\n"
   ]
  },
  {
   "cell_type": "code",
   "execution_count": null,
   "id": "b377458f-a09e-4681-b6a8-0b157786af7a",
   "metadata": {},
   "outputs": [],
   "source": []
  }
 ],
 "metadata": {
  "kernelspec": {
   "display_name": "Python 3 (ipykernel)",
   "language": "python",
   "name": "python3"
  },
  "language_info": {
   "codemirror_mode": {
    "name": "ipython",
    "version": 3
   },
   "file_extension": ".py",
   "mimetype": "text/x-python",
   "name": "python",
   "nbconvert_exporter": "python",
   "pygments_lexer": "ipython3",
   "version": "3.11.7"
  }
 },
 "nbformat": 4,
 "nbformat_minor": 5
}

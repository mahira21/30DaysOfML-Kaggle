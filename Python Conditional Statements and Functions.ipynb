{
 "cells": [
  {
   "cell_type": "code",
   "execution_count": 24,
   "id": "ed8f94b7-1e28-498b-9ef6-a3d97c7c4d30",
   "metadata": {},
   "outputs": [
    {
     "name": "stdout",
     "output_type": "stream",
     "text": [
      "Setup complete.\n"
     ]
    }
   ],
   "source": [
    "import math\n",
    "print('Setup complete.')"
   ]
  },
  {
   "cell_type": "markdown",
   "id": "592e4771-f9b9-4d17-9ce2-c8be665781ac",
   "metadata": {},
   "source": [
    "# Question 1\n",
    "You are tasked with writing a function, get_grade(), that converts a numerical score (0-100) to a letter grade, using the following conversion scale:\n",
    "\n",
    "    A: 90-100\n",
    "\n",
    "    B: 80-89\n",
    "\n",
    "    C: 70-79\n",
    "\n",
    "    D: 60-69\n",
    "\n",
    "    F: below 60\n",
    "\n",
    "The function should return the letter grade based on the input score. For instance:\n",
    "\n",
    "    A score of 85 should return \"B\".\n",
    "\n",
    "    A score of 49 should return \"F\"."
   ]
  },
  {
   "cell_type": "code",
   "execution_count": 23,
   "id": "d73af2dd-133b-4de8-8d2c-adfd0138b0b0",
   "metadata": {},
   "outputs": [
    {
     "name": "stdout",
     "output_type": "stream",
     "text": [
      "B\n",
      "F\n"
     ]
    }
   ],
   "source": [
    "def get_grade(score):\n",
    "    if score >= 90:\n",
    "        grade = \"A\"\n",
    "    elif score >= 80:\n",
    "        grade = \"B\"\n",
    "    elif score >= 70:\n",
    "        grade = \"C\"\n",
    "    elif score >= 60:\n",
    "        grade = \"D\"\n",
    "    else:\n",
    "        grade = \"F\"\n",
    "    return grade \n",
    "\n",
    "# Display the value\n",
    "print(get_grade(85))  \n",
    "print(get_grade(49)) \n"
   ]
  },
  {
   "cell_type": "markdown",
   "id": "a0632ad8-855e-46a1-824f-e2548fc40a0d",
   "metadata": {},
   "source": [
    "# Question 2\n",
    "You need to complete a function cost_of_project() for an online shop that calculates the cost of rings with custom engravings. The function takes two arguments:\n",
    "\n",
    "A= engraving: A string representing the engraving text.\n",
    "\n",
    "B= solid_gold: A boolean that indicates whether the ring is solid gold.\n",
    "\n",
    "The cost structure is as follows:\n",
    "A= Gold plated rings have a base cost of $50, and you charge $7 per engraved unit.\n",
    "\n",
    "B= Solid gold rings have a base cost of $100, and you charge $10 per engraved unit.\n",
    "\n",
    "C= Spaces and punctuation in the engraving are counted as engraved units (i.e., every character in the engraving is charged)."
   ]
  },
  {
   "cell_type": "code",
   "execution_count": 26,
   "id": "58ed5b19-67da-4993-b5b8-8ff14c3de15b",
   "metadata": {},
   "outputs": [
    {
     "name": "stdout",
     "output_type": "stream",
     "text": [
      "240\n",
      "120\n"
     ]
    }
   ],
   "source": [
    "def cost_of_project(engraving, solid_gold):\n",
    "    engraving_length = len(engraving)  # Calculate the number of characters in the engraving\n",
    "    if solid_gold == True:\n",
    "        cost = 100 + 10 * engraving_length  # Base cost for solid gold + cost per engraved unit * engraving_length\n",
    "    else:\n",
    "        cost = 50 + 7 * engraving_length  # Base cost for gold plated + cost per engraved unit * engraving_length\n",
    "    return cost\n",
    "\n",
    "# Display value\n",
    "print(cost_of_project(\"Charlie+Denver\", True))  # Solid gold, with engraving\n",
    "print(cost_of_project(\"08/10/2000\", False))    # Gold plated, with engraving\n"
   ]
  },
  {
   "cell_type": "markdown",
   "id": "c72b10f7-6372-43fe-a62d-82fb089f86d3",
   "metadata": {},
   "source": [
    "# Question 3\n",
    "You are tasked with creating a function get_water_bill() that calculates the water bill for a customer based on the number of gallons of water used in a month. The pricing structure follows a tiered system as described below:\n",
    "\n",
    "Tier 1: 0 - 8,000 gallons: $5 per 1,000 gallons\n",
    "\n",
    "Tier 2: 8,001 - 22,000 gallons: $6 per 1,000 gallons\n",
    "\n",
    "Tier 3: 22,001 - 30,000 gallons: $7 per 1,000 gallons\n",
    "\n",
    "Tier 4: 30,001+ gallons: $10 per 1,000 gallons\n",
    "\n",
    "Task:\n",
    "Write a function get_water_bill() that accepts the number of gallons used in a month (num_gallons) and calculates the total bill based on the tiered pricing system."
   ]
  },
  {
   "cell_type": "code",
   "execution_count": 30,
   "id": "19fa07db-b26d-45c6-a43b-716c0fcfb823",
   "metadata": {},
   "outputs": [
    {
     "name": "stdout",
     "output_type": "stream",
     "text": [
      "60.0\n",
      "175.0\n"
     ]
    }
   ],
   "source": [
    "def get_water_bill(num_gallons):\n",
    "    if num_gallons <= 8000:\n",
    "        bill = 5 * num_gallons / 1000\n",
    "    elif num_gallons <= 22000:\n",
    "        bill = 6 * num_gallons / 1000\n",
    "    elif num_gallons <= 30000:\n",
    "        bill = 7 * num_gallons / 1000\n",
    "    else:\n",
    "        bill = 10 * num_gallons / 1000\n",
    "    return bill\n",
    "\n",
    "# Display value\n",
    "print(get_water_bill(10000)) \n",
    "print(get_water_bill(25000))  "
   ]
  },
  {
   "cell_type": "markdown",
   "id": "a8c47bcd-c6eb-4f21-ac9d-76230482391f",
   "metadata": {},
   "source": [
    "# Question 4\n",
    "To implement a function get_phone_bill() that calculates the phone bill based on the data usage. The function:\n",
    "\n",
    "Charges a base fee of $100 for up to 15 GB of data.\n",
    "\n",
    " If the usage exceeds 15 GB, an additional $0.10 per MB is charged.\n",
    "\n",
    "The function should take the number of GB used (gb) as input and return the total phone bill."
   ]
  },
  {
   "cell_type": "code",
   "execution_count": 34,
   "id": "8803f2f2-5697-4016-87a4-a9d983ae13e9",
   "metadata": {},
   "outputs": [
    {
     "name": "stdout",
     "output_type": "stream",
     "text": [
      "100\n",
      "109.99999999999997\n"
     ]
    }
   ],
   "source": [
    "def get_phone_bill(gb):\n",
    "    # Cost of the plan is $100 for up to 15 GB\n",
    "    base_cost = 100\n",
    "    \n",
    "    # If the data used is more than 15 GB, charge an extra $0.10 per MB\n",
    "    if gb > 15:\n",
    "        additional_gb = gb - 15  # calculate the additional GB used\n",
    "        additional_cost = additional_gb * 100  # $0.10 per MB, 1000 MB = 1 GB\n",
    "        total_cost = base_cost + additional_cost\n",
    "    else:\n",
    "        total_cost = base_cost  # No extra charge if within 15 GB\n",
    "    \n",
    "    return total_cost\n",
    "#Display the value\n",
    "print(get_phone_bill(10))    \n",
    "print(get_phone_bill(15.1))  \n"
   ]
  },
  {
   "cell_type": "markdown",
   "id": "d928023a-fae4-47fc-8dfa-167d9aaf29e3",
   "metadata": {},
   "source": [
    "# Question 5\n",
    "In Mexico, food items that exceed certain thresholds for saturated fat, trans fat, sugar, sodium, or calories are marked with warning labels to help consumers make healthier choices.\n",
    "\n",
    "For this question, you are required to write a function get_labels() that generates the appropriate warning labels for a food item. The function should take the following inputs:\n",
    "\n",
    "food_type: Either \"solid\" or \"liquid\".\n",
    "\n",
    "serving_size: The size of one serving in grams (for solid foods) or milliliters (for liquids).\n",
    "\n",
    "calories_per_serving: The number of calories in one serving.\n",
    "\n",
    "saturated_fat_g: The number of grams of saturated fat in one serving.\n",
    "\n",
    "trans_fat_g: The number of grams of trans fat in one serving.\n",
    "\n",
    "sodium_mg: The number of milligrams of sodium in one serving.\n",
    "\n",
    "sugars_g: The number of grams of sugar in one serving.\n",
    "\n",
    "The function should check for excess amounts of the nutrients (sugar, saturated fat, etc.) and print the corresponding warning labels like:\n",
    "\n",
    "    \"EXCESO CALORIAS\" (Excess Calories)\n",
    "\n",
    "    \"EXCESO AZUCARES\" (Excess Sugar)\n",
    "\n",
    "You will use helper functions like excess_sugar() and excess_saturated_fat() that return True when the thresholds are exceeded for those particular nutrients. These helper functions will be used inside get_labels() to print the appropriate labels."
   ]
  },
  {
   "cell_type": "code",
   "execution_count": 38,
   "id": "a0807d12-a4ec-4030-a404-60f189be8c94",
   "metadata": {},
   "outputs": [
    {
     "name": "stdout",
     "output_type": "stream",
     "text": [
      "EXCESO AZUCARES / EXCESS SUGAR\n",
      "EXCESO GRASAS SATURADAS / EXCESS SATURATED FAT\n",
      "EXCESO GRASAS TRANS / EXCESS TRANS FAT\n",
      "EXCESO SODIO / EXCESS SODIUM\n",
      "EXCESO CALORIAS / EXCESS CALORIES\n"
     ]
    }
   ],
   "source": [
    "# Helper functions\n",
    "def excess_sugar(sugars_g):\n",
    "    return sugars_g > 25  # Threshold for excess sugar in grams\n",
    "\n",
    "def excess_saturated_fat(saturated_fat_g):\n",
    "    return saturated_fat_g > 15  # Threshold for excess saturated fat in grams\n",
    "\n",
    "def excess_trans_fat(trans_fat_g):\n",
    "    return trans_fat_g > 5  # Threshold for excess trans fat in grams\n",
    "\n",
    "def excess_sodium(sodium_mg):\n",
    "    return sodium_mg > 2000  # Threshold for excess sodium in milligrams\n",
    "\n",
    "def excess_calories(calories_per_serving):\n",
    "    return calories_per_serving > 250  # Threshold for excess calories per serving\n",
    "\n",
    "# Main function\n",
    "def get_labels(food_type, serving_size, calories_per_serving, saturated_fat_g, trans_fat_g, sodium_mg, sugars_g):\n",
    "    # Print messages based on findings\n",
    "    if excess_sugar(sugars_g):\n",
    "        print(\"EXCESO AZUCARES / EXCESS SUGAR\")\n",
    "    if excess_saturated_fat(saturated_fat_g):\n",
    "        print(\"EXCESO GRASAS SATURADAS / EXCESS SATURATED FAT\")\n",
    "    if excess_trans_fat(trans_fat_g):\n",
    "        print(\"EXCESO GRASAS TRANS / EXCESS TRANS FAT\")\n",
    "    if excess_sodium(sodium_mg):\n",
    "        print(\"EXCESO SODIO / EXCESS SODIUM\")\n",
    "    if excess_calories(calories_per_serving):\n",
    "        print(\"EXCESO CALORIAS / EXCESS CALORIES\")\n",
    "\n",
    "# Example usage\n",
    "get_labels(\"solid\", 100, 300, 16, 6, 2500, 30)  \n",
    "get_labels(\"liquid\", 200, 100, 10, 2, 1800, 15) \n"
   ]
  },
  {
   "cell_type": "markdown",
   "id": "cd2451a8-385a-40e0-a949-0e4e23ad5417",
   "metadata": {},
   "source": [
    "# Additional Task:\n",
    "This exercise requires writing a function get_labels() that determines the nutritional labels for a given food item. The function checks if the food item exceeds specified limits for sugar, saturated fat, trans fat, sodium, and calories. If any of the conditions are met, the appropriate warning labels are printed in both English and Spanish.\n",
    "\n",
    "Food Item Details for Bologna:\n",
    "\n",
    "    Food Type: Solid (bologna is solid, not liquid)\n",
    "\n",
    "    Serving Size: 32 grams\n",
    "\n",
    "    Calories per Serving: 110\n",
    "\n",
    "    Saturated Fat: 2.5 grams\n",
    "\n",
    "    Trans Fat: 0 grams\n",
    "\n",
    "    Sodium: 400 mg\n",
    "\n",
    "    Sugars: 1 gram\n",
    "\n",
    "This function will print labels if any nutritional components exceed the specified thresholds."
   ]
  },
  {
   "cell_type": "code",
   "execution_count": 43,
   "id": "b1be5508-3df8-4695-946a-2d6fbb939274",
   "metadata": {},
   "outputs": [
    {
     "name": "stdout",
     "output_type": "stream",
     "text": [
      "EXCESO SODIO / EXCESS SODIUM\n",
      "EXCESO CALORÍAS / EXCESS CALORIES\n"
     ]
    }
   ],
   "source": [
    "# Define the functions to check for each condition\n",
    "def excess_sugar(sugars_g, calories_per_serving):\n",
    "    return sugars_g > (calories_per_serving * 0.1)\n",
    "\n",
    "def excess_saturated_fat(saturated_fat_g, calories_per_serving):\n",
    "    return saturated_fat_g > (calories_per_serving * 0.05)\n",
    "\n",
    "def excess_trans_fat(trans_fat_g, calories_per_serving):\n",
    "    return trans_fat_g > (calories_per_serving * 0.02)\n",
    "\n",
    "def excess_sodium(calories_per_serving, sodium_mg):\n",
    "    return sodium_mg > (calories_per_serving * 0.3)\n",
    "\n",
    "def excess_calories(food_type, calories_per_serving, serving_size):\n",
    "    if food_type == \"solid\":\n",
    "        return calories_per_serving * serving_size > 150  # Adjusted the threshold\n",
    "    else:\n",
    "        return calories_per_serving * serving_size > 100  # Adjusted the threshold\n",
    "\n",
    "# Define the get_labels function based on previous work\n",
    "def get_labels(food_type, serving_size, calories_per_serving, saturated_fat_g, trans_fat_g, sodium_mg, sugars_g):\n",
    "    # Print messages based on findings\n",
    "    if excess_sugar(sugars_g, calories_per_serving) == True:\n",
    "        print(\"EXCESO AZÚCARES / EXCESS SUGAR\")\n",
    "    if excess_saturated_fat(saturated_fat_g, calories_per_serving) == True:\n",
    "        print(\"EXCESO GRASAS SATURADAS / EXCESS SATURATED FAT\")\n",
    "    if excess_trans_fat(trans_fat_g, calories_per_serving) == True:\n",
    "        print(\"EXCESO GRASAS TRANS / EXCESS TRANS FAT\")\n",
    "    if excess_sodium(calories_per_serving, sodium_mg) == True:\n",
    "        print(\"EXCESO SODIO / EXCESS SODIUM\")\n",
    "    if excess_calories(food_type, calories_per_serving, serving_size) == True:\n",
    "        print(\"EXCESO CALORÍAS / EXCESS CALORIES\")\n",
    "\n",
    "# Nutritional information for Bologna\n",
    "food_type = \"solid\"\n",
    "serving_size = 32  # in grams\n",
    "calories_per_serving = 110\n",
    "saturated_fat_g = 2.5  # grams\n",
    "trans_fat_g = 0  # grams\n",
    "sodium_mg = 400  # mg\n",
    "sugars_g = 1  # grams\n",
    "\n",
    "get_labels(food_type, serving_size, calories_per_serving, saturated_fat_g, trans_fat_g, sodium_mg, sugars_g)\n"
   ]
  },
  {
   "cell_type": "code",
   "execution_count": null,
   "id": "0be3ac4f-f869-4fac-bfd5-6edf0fb3089a",
   "metadata": {},
   "outputs": [],
   "source": []
  }
 ],
 "metadata": {
  "kernelspec": {
   "display_name": "Python 3 (ipykernel)",
   "language": "python",
   "name": "python3"
  },
  "language_info": {
   "codemirror_mode": {
    "name": "ipython",
    "version": 3
   },
   "file_extension": ".py",
   "mimetype": "text/x-python",
   "name": "python",
   "nbconvert_exporter": "python",
   "pygments_lexer": "ipython3",
   "version": "3.11.7"
  }
 },
 "nbformat": 4,
 "nbformat_minor": 5
}

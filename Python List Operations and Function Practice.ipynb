{
 "cells": [
  {
   "cell_type": "code",
   "execution_count": 2,
   "id": "57575395-7349-48ad-a8d8-c5bb4e1b9e84",
   "metadata": {},
   "outputs": [
    {
     "name": "stdout",
     "output_type": "stream",
     "text": [
      "Setup complete.\n"
     ]
    }
   ],
   "source": [
    "import math\n",
    "print('Setup complete.')"
   ]
  },
  {
   "cell_type": "markdown",
   "id": "6dae6165-6f10-4b91-bf7c-c4b0e56ad5e6",
   "metadata": {},
   "source": [
    "You are given a list of teams, where each team is represented by a list of names. The first name is the coach, the second name is the captain, and the rest are the players. The teams are listed in order from best to worst. Your task is to find and return the captain of the worst team, which is the last team in the list.When you run the code, the function will return the captain of the worst team."
   ]
  },
  {
   "cell_type": "code",
   "execution_count": 4,
   "id": "a4228bcf-cee4-4978-a630-3ac7686833af",
   "metadata": {},
   "outputs": [
    {
     "name": "stdout",
     "output_type": "stream",
     "text": [
      "Captain D\n"
     ]
    }
   ],
   "source": [
    "def losing_team_captain(teams):\n",
    "    return teams[-1][1] #The function retrieves the captain from the last team (teams[-1]) by accessing index 1 (teams[-1][1]), which is the second player (captain) of the last team.\n",
    "teams = [\n",
    "    [\"Coach A\", \"Captain A\", \"Player A1\", \"Player A2\"],\n",
    "    [\"Coach B\", \"Captain B\", \"Player B1\", \"Player B2\"],\n",
    "    [\"Coach C\", \"Captain C\", \"Player C1\", \"Player C2\"],\n",
    "    [\"Coach D\", \"Captain D\", \"Player D1\", \"Player D2\"]\n",
    "]\n",
    "print(losing_team_captain(teams))"
   ]
  },
  {
   "cell_type": "markdown",
   "id": "7e6886d2-3bde-4118-88d5-1717bb01fe21",
   "metadata": {},
   "source": [
    "In the Mario Kart iteration, there will be a new item called the Purple Shell. When this item is used, the last place racer is warped into first place, and the first place racer is warped into last place."
   ]
  },
  {
   "cell_type": "code",
   "execution_count": 6,
   "id": "03bb06ea-4533-4cf6-8e8a-c54ee2e7cd65",
   "metadata": {},
   "outputs": [
    {
     "name": "stdout",
     "output_type": "stream",
     "text": [
      "['Racer E', 'Racer B', 'Racer C', 'Racer D', 'Racer A']\n"
     ]
    }
   ],
   "source": [
    "def purple_shell(racers):\n",
    "    # Swap the first and last racers\n",
    "    racers[0], racers[-1] = racers[-1], racers[0]\n",
    "    return racers\n",
    "racers = [\"Racer A\", \"Racer B\", \"Racer C\", \"Racer D\", \"Racer E\"]\n",
    "new_race_order = purple_shell(racers)\n",
    "print(new_race_order) #A modified list where the first and last racers are swapped.\n"
   ]
  },
  {
   "cell_type": "markdown",
   "id": "9d85f0bd-52a3-41fd-bf15-f3daa8ca8660",
   "metadata": {},
   "source": [
    "You are given four lists, and you need to predict their lengths without directly using the len() function.\n",
    "Lists:\n",
    "a = [1, 2, 3]\n",
    "b = [1, [2, 3]]\n",
    "c = []\n",
    "d = [1, 2, 3][1:]"
   ]
  },
  {
   "cell_type": "code",
   "execution_count": 9,
   "id": "3296ea32-316d-47b2-85bc-0b20f0477227",
   "metadata": {},
   "outputs": [
    {
     "name": "stdout",
     "output_type": "stream",
     "text": [
      "[3, 2, 0, 2]\n"
     ]
    }
   ],
   "source": [
    "a = [1, 2, 3]\n",
    "b = [1, [2, 3]]\n",
    "c = []\n",
    "d = [1, 2, 3][1:]\n",
    "\n",
    "# Predictions for the lengths\n",
    "lengths = [3, 2, 0, 2]\n",
    "print(lengths)\n"
   ]
  },
  {
   "cell_type": "markdown",
   "id": "758fa28e-e805-4f4b-8dcd-cee42accfb9a",
   "metadata": {},
   "source": [
    "You are given a list of party attendees in the order they arrived:\n",
    "party_attendees = ['Adela', 'Fleda', 'Owen', 'May', 'Mona', 'Gilbert', 'Ford']\n",
    "A guest is considered fashionably late if they arrived after at least half of the party's guests but not last. Complete the function fashionably_late(arrivals, name) which takes the list of attendees and a name, and returns whether that person is fashionably late based on the given conditions.\n",
    "Conditions for \"Fashionably Late\":\n",
    "1. The guest must arrive after at least half of the guests.\n",
    "2. The guest must not be the very last person to arrive."
   ]
  },
  {
   "cell_type": "code",
   "execution_count": 11,
   "id": "918db34b-d459-4d27-aad5-159ead50f0df",
   "metadata": {},
   "outputs": [
    {
     "name": "stdout",
     "output_type": "stream",
     "text": [
      "True\n",
      "False\n",
      "False\n"
     ]
    }
   ],
   "source": [
    "def fashionably_late(arrivals, name):\n",
    "    index = arrivals.index(name)  # Find the position of the guest in the list\n",
    "    total_guests = len(arrivals)\n",
    "    \n",
    "    # The guest is fashionably late if they arrived after at least half of the guests,\n",
    "    # but are not the last guest.\n",
    "    if index >= total_guests // 2 and index < total_guests - 1:\n",
    "        return True\n",
    "    return False\n",
    "party_attendees = ['Adela', 'Fleda', 'Owen', 'May', 'Mona', 'Gilbert', 'Ford']\n",
    "print(fashionably_late(party_attendees, 'Mona')) \n",
    "print(fashionably_late(party_attendees, 'Adela'))  \n",
    "print(fashionably_late(party_attendees, 'Ford'))  \n"
   ]
  },
  {
   "cell_type": "code",
   "execution_count": null,
   "id": "fb04ac27-e936-4b66-aef7-9d1e8d5f656b",
   "metadata": {},
   "outputs": [],
   "source": []
  }
 ],
 "metadata": {
  "kernelspec": {
   "display_name": "Python 3 (ipykernel)",
   "language": "python",
   "name": "python3"
  },
  "language_info": {
   "codemirror_mode": {
    "name": "ipython",
    "version": 3
   },
   "file_extension": ".py",
   "mimetype": "text/x-python",
   "name": "python",
   "nbconvert_exporter": "python",
   "pygments_lexer": "ipython3",
   "version": "3.11.7"
  }
 },
 "nbformat": 4,
 "nbformat_minor": 5
}
